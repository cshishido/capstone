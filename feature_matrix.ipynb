{
 "cells": [
  {
   "cell_type": "code",
   "execution_count": 1,
   "metadata": {},
   "outputs": [],
   "source": [
    "from pymongo import MongoClient\n",
    "import pandas as pd\n",
    "import re\n",
    "from src.feature_building import count_keyword_1and2grams, token_pipeline\n",
    "from nltk.util import ngrams"
   ]
  },
  {
   "cell_type": "code",
   "execution_count": 2,
   "metadata": {},
   "outputs": [],
   "source": [
    "client = MongoClient()\n",
    "db = client['recipes']"
   ]
  },
  {
   "cell_type": "code",
   "execution_count": 3,
   "metadata": {
    "collapsed": true
   },
   "outputs": [],
   "source": [
    "regx = re.compile('cookies', re.IGNORECASE)"
   ]
  },
  {
   "cell_type": "code",
   "execution_count": 4,
   "metadata": {
    "collapsed": true
   },
   "outputs": [],
   "source": [
    "def keyword_hierarchy(curs, dir_path):\n",
    "    precedence = {}\n",
    "    word_counts, n2gram_counts = count_keyword_1and2grams(curs)\n",
    "    with open(dir_path + 'features_1gram.txt', 'r') as f1:\n",
    "        for line in f1:\n",
    "            keyword = line.strip()\n",
    "            precedence[keyword] = word_counts[keyword]\n",
    "    bonus2 = max(precedence.values())\n",
    "    with open(dir_path + 'features_2gram.txt', 'r') as f2:\n",
    "        for line in f2:\n",
    "            n2gram = line.strip()\n",
    "            precedence[n2gram] = n2gram_counts[n2gram] + bonus2\n",
    "    return precedence       "
   ]
  },
  {
   "cell_type": "code",
   "execution_count": 5,
   "metadata": {},
   "outputs": [],
   "source": [
    "def identify_ingred(ingred_line, precedence_dict):\n",
    "    tokens = token_pipeline(ingred_line['text'])\n",
    "    n2grams = {\" \".join(gram) for gram in ngrams(tokens,2)}\n",
    "    keywords = (n2grams.union(set(tokens))).intersection(precedence_dict)\n",
    "    if keywords:                                                 \n",
    "        best_keyword = max(keywords, key=precedence_dict.get)\n",
    "        return best_keyword, ingred_line['weight']\n",
    "    else:\n",
    "        message = \"no keyword in line: \" + \" \".join(tokens)\n",
    "        with open('unidentified_lines.log', 'w') as log_f:\n",
    "            log_f.write(message + \"\\n\")\n",
    "        print message                                                        "
   ]
  },
  {
   "cell_type": "code",
   "execution_count": 6,
   "metadata": {
    "collapsed": true
   },
   "outputs": [],
   "source": [
    "def get_recipe_features(recipe_dict, precedence_dict):\n",
    "    tot = recipe_dict['totalWeight']\n",
    "    features = {'label': recipe_dict['label']}\n",
    "    for ingred_line in recipe_dict['ingredients']:\n",
    "        ingred = identify_ingred(ingred_line, precedence_dict)\n",
    "        if ingred:\n",
    "            features[ingred[0]] = ingred[1]\n",
    "    return features"
   ]
  },
  {
   "cell_type": "code",
   "execution_count": 7,
   "metadata": {},
   "outputs": [],
   "source": [
    "precedence = keyword_hierarchy(db.eda_cookies.find({\"label\":regx}), 'src/')"
   ]
  },
  {
   "cell_type": "code",
   "execution_count": 8,
   "metadata": {},
   "outputs": [
    {
     "name": "stdout",
     "output_type": "stream",
     "text": [
      "no keyword in line: bicarbon soda\n",
      "no keyword in line: fleur de sel\n",
      "no keyword in line: soda\n",
      "no keyword in line: master cooki mix\n",
      "no keyword in line: dozen cooki\n",
      "no keyword in line: fleur de sel\n",
      "no keyword in line: ml wheat bran\n",
      "no keyword in line: pit prune\n",
      "no keyword in line: flax\n",
      "no keyword in line: mace\n",
      "no keyword in line: cooki\n",
      "no keyword in line: xylitol\n",
      "no keyword in line: bicarbon soda\n",
      "no keyword in line: rainbow sprinkl\n",
      "no keyword in line: recip birthday cake crumb recip follow\n",
      "no keyword in line: birthday cake crumb\n",
      "no keyword in line: rainbow sprinkl\n",
      "no keyword in line: ice\n",
      "no keyword in line: meringu powder\n",
      "no keyword in line: meringu powder\n",
      "no keyword in line: x shortbread cooki use walker\n",
      "no keyword in line: gluten free shortbread cooki\n",
      "no keyword in line: fine emmer wheat\n",
      "no keyword in line: store bought italian shortbread cooki such as rigoli\n",
      "no keyword in line: shortbread cooki\n",
      "no keyword in line: red and green hard candi\n",
      "no keyword in line: uncook polenta\n",
      "no keyword in line: minc herb\n",
      "no keyword in line: inch diamet heart shape cooki cutter\n",
      "no keyword in line: amarettini di saronno cooki\n",
      "no keyword in line: fleur de sel plus decor\n",
      "no keyword in line: homemad store bought cooki\n",
      "no keyword in line: cooki fill recip follow\n",
      "no keyword in line: can dulc de lech\n",
      "no keyword in line: pastri bag with inch plain tip\n",
      "no keyword in line: everyday bake mix spoon and level\n",
      "no keyword in line: sheet frozen puff pastri from packag thaw\n",
      "no keyword in line: box red velvet cake mix\n",
      "no keyword in line: pop unsalt popcorn veri coars in food processor\n",
      "no keyword in line: dulc de lech\n",
      "no keyword in line: can dulc de lech\n",
      "no keyword in line: store bought dulc de lech plus fill\n",
      "no keyword in line: black and red tube ice\n",
      "no keyword in line: shortbread round\n",
      "no keyword in line: land o lake half & half\n",
      "no keyword in line: past ice color\n",
      "no keyword in line: mace\n",
      "no keyword in line: soda\n",
      "no keyword in line: royal ice\n",
      "no keyword in line: pinenut\n",
      "no keyword in line: matcha powder\n",
      "no keyword in line: ice\n",
      "no keyword in line: s color candi d cor\n",
      "no keyword in line: wheat bran\n",
      "no keyword in line: soda\n",
      "no keyword in line: matzo cake meal\n",
      "no keyword in line: kirsch\n",
      "no keyword in line: fleur de sel\n",
      "no keyword in line: polenta regular coars\n",
      "no keyword in line: rainbow sprinkl\n",
      "no keyword in line: sherri\n",
      "no keyword in line: gingersnap cooki\n",
      "no keyword in line: thaw whip top\n",
      "no keyword in line: anywher from leftov easter candi\n",
      "no keyword in line: royal ice\n",
      "no keyword in line: flaxse\n",
      "no keyword in line: flax\n",
      "no keyword in line: tvp granul dri\n",
      "no keyword in line: sherri\n",
      "no keyword in line: dri red wine\n",
      "no keyword in line: royal ice\n",
      "no keyword in line: fleur de sel\n",
      "no keyword in line: m&ms\n",
      "no keyword in line: mango chutney\n",
      "no keyword in line: sprig fresh thyme\n",
      "no keyword in line: kirsch chambord\n",
      "no keyword in line: plus flaxse divid\n",
      "no keyword in line: plus flaxse divid\n",
      "no keyword in line: flax\n",
      "no keyword in line: chambord kirsch\n",
      "no keyword in line: fun size musket bar cut into cube\n",
      "no keyword in line: bag nestl swirl holiday morsel the red & green one are beauti in this cooki\n",
      "no keyword in line: browni mix choic\n",
      "no keyword in line: box browni mix size\n",
      "no keyword in line: tbsps half and half\n",
      "no keyword in line: masa harina\n",
      "no keyword in line: absinth\n",
      "no keyword in line: fine fresh sage leav\n",
      "no keyword in line: mccormick s chai season\n",
      "no keyword in line: butternut squash pure can fresh\n",
      "no keyword in line: flaxse\n",
      "no keyword in line: kiwi pure\n",
      "no keyword in line: nestl nesquik powder\n",
      "no keyword in line: dulc de lech\n",
      "no keyword in line: packag browni mix\n",
      "no keyword in line: packet browni mix\n",
      "no keyword in line: recip sheet chill old fashion browni cut into inch cube generous\n",
      "no keyword in line: packag browni mix\n",
      "no keyword in line: packag devil s food cake mix\n",
      "no keyword in line: contain frozen whip top thaw\n",
      "no keyword in line: glucos\n",
      "no keyword in line: browni mix use duncan hine\n",
      "no keyword in line: packag browni mix\n",
      "no keyword in line: browni base\n",
      "no keyword in line: packag browni mix\n",
      "no keyword in line: box red velvet cake mix\n",
      "no keyword in line: box browni mix\n",
      "no keyword in line: cool whip thaw contain\n",
      "no keyword in line: box devil s food cake mix\n",
      "no keyword in line: packag plain devil s food cake mix\n",
      "no keyword in line: rosewat\n",
      "no keyword in line: recip essenti biscotti american style recip follow\n",
      "no keyword in line: box classic yellow cake mix\n",
      "no keyword in line: heart shape cooki cutter small medium size\n",
      "no keyword in line: yellow royal ice\n",
      "no keyword in line: royal ice\n",
      "no keyword in line: hard candi such as life saver prefer in sever flavor color\n",
      "no keyword in line: creme de menth bake chip andes brand\n",
      "no keyword in line: fleur de sel\n",
      "no keyword in line: bisquick origin all purpos bake mix\n",
      "no keyword in line: box devil s food cake mix\n",
      "no keyword in line: packag devil s food cake mix\n",
      "no keyword in line: flaxse\n",
      "no keyword in line: liquid smoke one shake the bottl\n",
      "no keyword in line: half & half\n",
      "no keyword in line: href allergi free dessert betsi s bake mix\n",
      "no keyword in line: grand marnier\n",
      "no keyword in line: half and half\n",
      "no keyword in line: curri powder\n",
      "no keyword in line: fleur de sel sprinkl\n",
      "no keyword in line: reduc fat mayonnais\n",
      "no keyword in line: tsps tequila\n",
      "no keyword in line: can nestl dulc de lech each\n",
      "no keyword in line: unprocess wheat bran\n",
      "no keyword in line: vodka option abov\n",
      "no keyword in line: pandan past\n",
      "no keyword in line: whip top\n",
      "no keyword in line: tbsps whip top mix\n",
      "no keyword in line: frozen limead concentr thaw\n",
      "no keyword in line: citric acid\n",
      "no keyword in line: tube each betti crocker green decor gel if desir\n",
      "no keyword in line: mccormick sage rub\n",
      "no keyword in line: tequila\n",
      "no keyword in line: ml bicarbon soda\n",
      "no keyword in line: milki way bunni\n",
      "no keyword in line: bag starburst brand origin jellybean\n",
      "no keyword in line: cooki sheet pan\n",
      "no keyword in line: bag m&ms\n",
      "no keyword in line: sultana\n",
      "no keyword in line: long strand black licoric cut into inch length\n",
      "no keyword in line: brown mini m&ms\n",
      "no keyword in line: tbsps gs meringu powder\n",
      "no keyword in line: packag round coat candi sour skittl pictur\n",
      "no keyword in line: packag red licoric string\n",
      "no keyword in line: air pop popcorn\n",
      "no keyword in line: black and red tube ice\n",
      "no keyword in line: dri mustard\n",
      "no keyword in line: royal ice\n",
      "no keyword in line: soda\n",
      "no keyword in line: fleur de sel plus decor\n",
      "no keyword in line: mace\n",
      "no keyword in line: organ flaxse\n",
      "no keyword in line: tbsps flaxse\n",
      "no keyword in line: soda\n",
      "no keyword in line: green pea powder\n",
      "no keyword in line: cornflour powder\n",
      "no keyword in line: and pancak waffl mix can be regular wheat free\n",
      "no keyword in line: persimmon pulp\n",
      "no keyword in line: psyllium husk trader joe s\n",
      "no keyword in line: bran flake crush substitut multi grain flake\n",
      "no keyword in line: psyllium husk\n",
      "no keyword in line: buckwheat groat kasha\n",
      "no keyword in line: buckwheat groat kasha\n",
      "no keyword in line: shortbread cooki\n",
      "no keyword in line: tube green decor ice if desir\n",
      "no keyword in line: dri kasha\n",
      "no keyword in line: flaxse\n",
      "no keyword in line: kasha\n",
      "no keyword in line: packag yellow cake mix\n",
      "no keyword in line: fresh thyme leav\n",
      "no keyword in line: flaxse\n",
      "no keyword in line: recip all in one cooki dough\n",
      "no keyword in line: rainbow sprinkl\n",
      "no keyword in line: amaretti cooki small cooki\n",
      "no keyword in line: cr me fra che\n",
      "no keyword in line: bag choco chip\n",
      "no keyword in line: box pillsburi funfetti cake mix\n",
      "no keyword in line: box pillsburi orangesicl cooki mix\n",
      "no keyword in line: tbsps nonpareil\n",
      "no keyword in line: packag hershey s cooki n creme drop\n",
      "no keyword in line: browni mix\n",
      "no keyword in line: miniatur rees s frozen least hour\n",
      "no keyword in line: truvia bake blend\n",
      "no keyword in line: rolo frozen least hour\n",
      "no keyword in line: mini size grand bar each cut into equal piec\n"
     ]
    }
   ],
   "source": [
    "curs = db.eda_cookies.find({\"label\":regx})\n",
    "data = [get_recipe_features(doc, precedence) for doc in curs]"
   ]
  },
  {
   "cell_type": "code",
   "execution_count": 10,
   "metadata": {},
   "outputs": [],
   "source": [
    "df = pd.DataFrame(data)"
   ]
  },
  {
   "cell_type": "code",
   "execution_count": 12,
   "metadata": {},
   "outputs": [
    {
     "data": {
      "text/plain": [
       "0       226.796188\n",
       "1       248.058334\n",
       "2       300.000000\n",
       "3       150.000000\n",
       "4       200.000000\n",
       "5        85.000000\n",
       "6              NaN\n",
       "7       283.495239\n",
       "8       100.000000\n",
       "9        90.000000\n",
       "10      300.000000\n",
       "11             NaN\n",
       "12             NaN\n",
       "13             NaN\n",
       "14      200.000000\n",
       "15       50.000000\n",
       "16      100.000000\n",
       "17      200.000000\n",
       "18      200.000000\n",
       "19      200.000000\n",
       "20       50.000000\n",
       "21       75.599998\n",
       "22             NaN\n",
       "23      100.000000\n",
       "24      150.000000\n",
       "25      200.000000\n",
       "26      175.000000\n",
       "27      150.000000\n",
       "28      230.000000\n",
       "29      200.000000\n",
       "           ...    \n",
       "2224           NaN\n",
       "2225           NaN\n",
       "2226      8.994554\n",
       "2227     22.496737\n",
       "2228           NaN\n",
       "2229    200.000000\n",
       "2230    200.000000\n",
       "2231           NaN\n",
       "2232    200.000000\n",
       "2233    200.000000\n",
       "2234     66.666664\n",
       "2235     50.000000\n",
       "2236    200.000000\n",
       "2237    200.000000\n",
       "2238    100.000000\n",
       "2239     50.000000\n",
       "2240    200.000000\n",
       "2241    150.000000\n",
       "2242           NaN\n",
       "2243    200.000000\n",
       "2244     12.600000\n",
       "2245    200.000000\n",
       "2246    150.000000\n",
       "2247     50.000000\n",
       "2248    100.000000\n",
       "2249    200.000000\n",
       "2250     12.600000\n",
       "2251     50.000000\n",
       "2252    198.446655\n",
       "2253     25.200001\n",
       "Name: sugar, Length: 2254, dtype: float64"
      ]
     },
     "execution_count": 12,
     "metadata": {},
     "output_type": "execute_result"
    }
   ],
   "source": [
    "df['sugar']"
   ]
  },
  {
   "cell_type": "code",
   "execution_count": 33,
   "metadata": {
    "collapsed": true
   },
   "outputs": [],
   "source": [
    "samp = db.eda_cookies.find_one()"
   ]
  },
  {
   "cell_type": "code",
   "execution_count": 39,
   "metadata": {},
   "outputs": [
    {
     "name": "stdout",
     "output_type": "stream",
     "text": [
      "('flour', 481.94189453125)\n",
      "('bake powder', 6.900000095367432)\n",
      "('bake soda', 5.75)\n",
      "('salt', 6.340129375457764)\n",
      "('butter', 283.4952392578125)\n",
      "('brown sugar', 283.4952392578125)\n",
      "('sugar', 226.7961883544922)\n",
      "('egg', 100.0)\n",
      "('vanilla extract', 8.399999618530273)\n",
      "('bittersweet chocol', 538.6409301757812)\n"
     ]
    }
   ],
   "source": [
    "for line in samp['ingredients']:\n",
    "    print identify_line(line, precedence)"
   ]
  },
  {
   "cell_type": "code",
   "execution_count": 13,
   "metadata": {
    "collapsed": true
   },
   "outputs": [],
   "source": [
    "d_test = {'a':1, 'b':2, 'c':3}\n",
    "set_test = {'b', 'c', 'd'}"
   ]
  },
  {
   "cell_type": "code",
   "execution_count": 29,
   "metadata": {
    "collapsed": true
   },
   "outputs": [],
   "source": [
    "empty_set = set()"
   ]
  },
  {
   "cell_type": "code",
   "execution_count": 31,
   "metadata": {},
   "outputs": [
    {
     "name": "stdout",
     "output_type": "stream",
     "text": [
      "yes\n"
     ]
    }
   ],
   "source": [
    "if set_test:\n",
    "    print \"yes\""
   ]
  },
  {
   "cell_type": "code",
   "execution_count": null,
   "metadata": {
    "collapsed": true
   },
   "outputs": [],
   "source": []
  }
 ],
 "metadata": {
  "kernelspec": {
   "display_name": "Python 2",
   "language": "python",
   "name": "python2"
  },
  "language_info": {
   "codemirror_mode": {
    "name": "ipython",
    "version": 2
   },
   "file_extension": ".py",
   "mimetype": "text/x-python",
   "name": "python",
   "nbconvert_exporter": "python",
   "pygments_lexer": "ipython2",
   "version": "2.7.13"
  }
 },
 "nbformat": 4,
 "nbformat_minor": 2
}
