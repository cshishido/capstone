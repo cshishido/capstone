{
 "cells": [
  {
   "cell_type": "code",
   "execution_count": 1,
   "metadata": {},
   "outputs": [],
   "source": [
    "from pymongo import MongoClient\n",
    "import pandas as pd\n",
    "import re\n",
    "from src.data_processing import get_recipe_df\n",
    "from src.recipe_annotation import Recipe, RecipeGroup"
   ]
  },
  {
   "cell_type": "code",
   "execution_count": 2,
   "metadata": {
    "collapsed": true
   },
   "outputs": [],
   "source": [
    "client = MongoClient()\n",
    "db = client['recipes']\n",
    "coll = db.eda_cookies\n",
    "\n",
    "cookie_regx = re.compile(\"cookie\", re.IGNORECASE)"
   ]
  },
  {
   "cell_type": "code",
   "execution_count": 3,
   "metadata": {},
   "outputs": [],
   "source": [
    "df_cookies = get_recipe_df(coll, cookie_regx)"
   ]
  },
  {
   "cell_type": "code",
   "execution_count": 7,
   "metadata": {},
   "outputs": [],
   "source": [
    "choc_chip_keys = df_cookies.index[df_cookies.label.str.contains(\"chocolate.chip.cookies\", case=False, regex=True)]"
   ]
  },
  {
   "cell_type": "code",
   "execution_count": 36,
   "metadata": {},
   "outputs": [],
   "source": [
    "choc_chip_group = RecipeGroup(choc_chip_keys, df_cookies)"
   ]
  },
  {
   "cell_type": "code",
   "execution_count": 37,
   "metadata": {},
   "outputs": [],
   "source": [
    "recp = choc_chip_group.members['http://allrecipes.com/recipe/17209/absolutely-the-best-chocolate-chip-cookies/']"
   ]
  },
  {
   "cell_type": "code",
   "execution_count": 38,
   "metadata": {},
   "outputs": [],
   "source": [
    "recp.get_annotations()"
   ]
  },
  {
   "cell_type": "code",
   "execution_count": 39,
   "metadata": {},
   "outputs": [
    {
     "name": "stdout",
     "output_type": "stream",
     "text": [
      "SALT:  6.0g       |   used in 87.6%  of recipes|\n",
      "     avg:   4.5g  | range:  0.6g - 14.4g       |  std: 0.0045g\n",
      "------------------------------------------------------------\n",
      "BUTTER: 205.0g    |   used in 85.9%  of recipes|\n",
      "     avg: 186.8g  | range:  5.1g - 336.0g       |  std: 2.4044g\n",
      "------------------------------------------------------------\n",
      "BAKE SODA:  4.6g  |   used in 85.5%  of recipes|\n",
      "     avg:   4.2g  | range:  1.4g - 15.9g       |  std: 0.0027g\n",
      "------------------------------------------------------------\n",
      "FLOUR: 281.2g     |   used in 85.0%  of recipes|\n",
      "     avg: 257.2g  | range:  5.1g - 770.7g       |  std: 10.2972g\n",
      "------------------------------------------------------------\n",
      "EGG: 86.0g        |   used in 83.3%  of recipes|\n",
      "     avg:  80.9g  | range: 26.0g - 240.3g       |  std: 0.6075g\n",
      "------------------------------------------------------------\n",
      "SUGAR: 150.0g     |   used in 80.3%  of recipes|\n",
      "     avg: 150.2g  | range: 15.6g - 702.1g       |  std: 6.0174g\n",
      "------------------------------------------------------------\n",
      "BROWN SUGAR: 108.8g  |   used in 77.4%  of recipes|\n",
      "     avg: 169.1g  | range: 15.4g - 393.2g       |  std: 3.2432g\n",
      "------------------------------------------------------------\n",
      "VANILLA EXTRACT:  8.4g  |   used in 70.9%  of recipes|\n",
      "     avg:   9.5g  | range:  0.8g - 56.0g       |  std: 0.0607g\n",
      "------------------------------------------------------------\n",
      "MILK CHOCOL: 448.0g  |   used in 7.3%  of recipes|\n",
      "     avg: 283.2g  | range: 87.2g - 594.8g       |  std: 17.4847g\n",
      "------------------------------------------------------------\n"
     ]
    }
   ],
   "source": [
    "print recp.annots"
   ]
  }
 ],
 "metadata": {
  "kernelspec": {
   "display_name": "Python 2",
   "language": "python",
   "name": "python2"
  },
  "language_info": {
   "codemirror_mode": {
    "name": "ipython",
    "version": 2
   },
   "file_extension": ".py",
   "mimetype": "text/x-python",
   "name": "python",
   "nbconvert_exporter": "python",
   "pygments_lexer": "ipython2",
   "version": "2.7.13"
  }
 },
 "nbformat": 4,
 "nbformat_minor": 2
}
