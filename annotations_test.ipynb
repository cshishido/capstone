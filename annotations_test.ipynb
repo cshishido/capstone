{
 "cells": [
  {
   "cell_type": "code",
   "execution_count": 1,
   "metadata": {},
   "outputs": [],
   "source": [
    "from pymongo import MongoClient\n",
    "import pandas as pd\n",
    "import re\n",
    "import numpy as np\n",
    "from src.data_processing import get_recipe_df\n",
    "from src.recipe_annotation import Recipe, RecipeGroup"
   ]
  },
  {
   "cell_type": "code",
   "execution_count": 2,
   "metadata": {
    "collapsed": true
   },
   "outputs": [],
   "source": [
    "client = MongoClient()\n",
    "db = client['recipes']\n",
    "coll = db.eda_cookies\n",
    "\n",
    "cookie_regx = re.compile(\"cookie\", re.IGNORECASE)\n",
    "\n",
    "df_cookies = get_recipe_df(coll, cookie_regx)\n",
    "\n",
    "choc_chip_keys = df_cookies.index[df_cookies.label.str.contains(\"chocolate.chip.cookies\", case=False, regex=True)]"
   ]
  },
  {
   "cell_type": "code",
   "execution_count": 3,
   "metadata": {},
   "outputs": [],
   "source": [
    "choc_chip_group = RecipeGroup(df_cookies, choc_chip_keys)"
   ]
  },
  {
   "cell_type": "code",
   "execution_count": 4,
   "metadata": {},
   "outputs": [],
   "source": [
    "# choc_chip_group.show_tnse_plot()"
   ]
  },
  {
   "cell_type": "code",
   "execution_count": 5,
   "metadata": {},
   "outputs": [],
   "source": [
    "choc_chip_group._get_group_description()"
   ]
  },
  {
   "cell_type": "code",
   "execution_count": 6,
   "metadata": {},
   "outputs": [
    {
     "name": "stdout",
     "output_type": "stream",
     "text": [
      "core ingredients:\n",
      "   chocol, in 93.6%  of recipes\n",
      "   salt, in 92.3%  of recipes\n",
      "   butter, in 85.9%  of recipes\n",
      "   bake soda, in 85.5%  of recipes\n",
      "   flour, in 85.0%  of recipes\n",
      "   egg, in 83.3%  of recipes\n",
      "   sugar, in 80.8%  of recipes\n",
      "   brown sugar, in 77.4%  of recipes\n",
      "   vanilla extract, in 70.9%  of recipes\n",
      "common ingredients:\n",
      "   bake powder, in 28.6%  of recipes\n",
      "   vanilla, in 20.1%  of recipes\n",
      "   oat, in 10.7%  of recipes\n",
      "uncommon ingredients:\n",
      "   cinnamon, in  9.0%  of recipes\n",
      "   walnut, in  8.5%  of recipes\n",
      "   milk, in  7.7%  of recipes\n",
      "   egg yolk, in  7.7%  of recipes\n",
      "   white chocol, in  6.8%  of recipes\n",
      "   whole wheat flour, in  6.0%  of recipes\n",
      "   cocoa powder, in  4.3%  of recipes\n",
      "   coconut oil, in  4.3%  of recipes\n",
      "   whole wheat, in  3.8%  of recipes\n"
     ]
    }
   ],
   "source": [
    "print choc_chip_group.desc"
   ]
  },
  {
   "cell_type": "code",
   "execution_count": 7,
   "metadata": {},
   "outputs": [],
   "source": [
    "typical_r = choc_chip_group.find_typical_recipe(freq_cos_ratio=0.6, health_labels=['Vegan'])"
   ]
  },
  {
   "cell_type": "code",
   "execution_count": 8,
   "metadata": {},
   "outputs": [
    {
     "name": "stdout",
     "output_type": "stream",
     "text": [
      "CHOCOL: 173.0g    |   used in 93.6%  of recipes|\n",
      "     avg: 176.7g  | range:  0.0g - 736.4g       |  std: 7.3165g\n",
      "------------------------------------------------------------\n",
      "SALT:  2.5g       |   used in 92.3%  of recipes|\n",
      "     avg:   2.6g  | range:  0.3g -  8.3g       |  std: 0.0027g\n",
      "------------------------------------------------------------\n",
      "BAKE SODA:  2.3g  |   used in 85.5%  of recipes|\n",
      "     avg:   2.4g  | range:  0.8g -  9.1g       |  std: 0.0015g\n",
      "------------------------------------------------------------\n",
      "VANILLA EXTRACT: 13.0g  |   used in 70.9%  of recipes|\n",
      "     avg:   5.5g  | range:  1.1g - 32.3g       |  std: 0.0348g\n",
      "------------------------------------------------------------\n",
      "AGAV: 166.4g      |   used in 2.6%  of recipes|\n",
      "     avg: 130.4g  | range: 36.6g - 176.0g       |  std: 3.8299g\n",
      "------------------------------------------------------------\n",
      "ALMOND FLOUR: 280.0g  |   used in 2.1%  of recipes|\n",
      "     avg: 281.5g  | range: 262.1g - 296.1g       |  std: 0.1647g\n",
      "------------------------------------------------------------\n",
      "GRAPESE OIL: 109.0g  |   used in 2.1%  of recipes|\n",
      "     avg: 109.6g  | range: 102.0g - 115.3g       |  std: 0.0250g\n",
      "------------------------------------------------------------\n"
     ]
    }
   ],
   "source": [
    "print typical_r"
   ]
  },
  {
   "cell_type": "code",
   "execution_count": 9,
   "metadata": {
    "scrolled": true
   },
   "outputs": [
    {
     "name": "stdout",
     "output_type": "stream",
     "text": [
      "2 1/2 cups blanched almond flour\n",
      "1/2 teaspoon celtic sea salt\n",
      "1/2 teaspoon baking soda\n",
      "1/2 cup grapeseed oil\n",
      "1 tablespoon vanilla extract\n",
      "1/2 cup agave nectar\n",
      "1 cup dark chocolate 73%\n"
     ]
    }
   ],
   "source": [
    "print typical_r.line_text"
   ]
  },
  {
   "cell_type": "code",
   "execution_count": 10,
   "metadata": {},
   "outputs": [
    {
     "name": "stdout",
     "output_type": "stream",
     "text": [
      "gluten free and vegan chocolate chip cookies\n"
     ]
    }
   ],
   "source": [
    "print typical_r.label"
   ]
  },
  {
   "cell_type": "code",
   "execution_count": 11,
   "metadata": {},
   "outputs": [
    {
     "name": "stdout",
     "output_type": "stream",
     "text": [
      "https://food52.com/recipes/1566-gluten-free-and-vegan-chocolate-chip-cookies\n"
     ]
    }
   ],
   "source": [
    "print typical_r.key"
   ]
  },
  {
   "cell_type": "code",
   "execution_count": 12,
   "metadata": {},
   "outputs": [
    {
     "data": {
      "text/plain": [
       "[u'Vegan', u'Vegetarian', u'Peanut-Free', u'Alcohol-Free']"
      ]
     },
     "execution_count": 12,
     "metadata": {},
     "output_type": "execute_result"
    }
   ],
   "source": [
    "typical_r.health"
   ]
  },
  {
   "cell_type": "code",
   "execution_count": 13,
   "metadata": {},
   "outputs": [
    {
     "data": {
      "text/plain": [
       "{u'_id': ObjectId('59a634b0e970dc0c0b022a1d'),\n",
       " u'calories': 7171.664670786857,\n",
       " u'cautions': [],\n",
       " u'dietLabels': [],\n",
       " u'digest': [{u'daily': 491.96225123830936,\n",
       "   u'hasRDI': True,\n",
       "   u'label': u'Fat',\n",
       "   u'schemaOrgTag': u'fatContent',\n",
       "   u'sub': [{u'daily': 969.3006355402233,\n",
       "     u'hasRDI': True,\n",
       "     u'label': u'Saturated',\n",
       "     u'schemaOrgTag': u'saturatedFatContent',\n",
       "     u'tag': u'FASAT',\n",
       "     u'total': 193.86012710804465,\n",
       "     u'unit': u'g'},\n",
       "    {u'daily': 0.0,\n",
       "     u'hasRDI': False,\n",
       "     u'label': u'Trans',\n",
       "     u'schemaOrgTag': u'transFatContent',\n",
       "     u'tag': u'FATRN',\n",
       "     u'total': 9.330973942871093,\n",
       "     u'unit': u'g'},\n",
       "    {u'daily': 0.0,\n",
       "     u'hasRDI': False,\n",
       "     u'label': u'Monounsaturated',\n",
       "     u'schemaOrgTag': None,\n",
       "     u'tag': u'FAMS',\n",
       "     u'total': 88.81004426345349,\n",
       "     u'unit': u'g'},\n",
       "    {u'daily': 0.0,\n",
       "     u'hasRDI': False,\n",
       "     u'label': u'Polyunsaturated',\n",
       "     u'schemaOrgTag': None,\n",
       "     u'tag': u'FAPU',\n",
       "     u'total': 15.186441522727014,\n",
       "     u'unit': u'g'}],\n",
       "   u'tag': u'FAT',\n",
       "   u'total': 319.7754633049011,\n",
       "   u'unit': u'g'},\n",
       "  {u'daily': 397.2599400027275,\n",
       "   u'hasRDI': True,\n",
       "   u'label': u'Carbs',\n",
       "   u'schemaOrgTag': u'carbohydrateContent',\n",
       "   u'sub': [{u'daily': 0.0,\n",
       "     u'hasRDI': False,\n",
       "     u'label': u'Carbs (net)',\n",
       "     u'schemaOrgTag': None,\n",
       "     u'tag': u'CHOCDF.net',\n",
       "     u'total': 979.4564446906089,\n",
       "     u'unit': u'g'},\n",
       "    {u'daily': 849.2935012702941,\n",
       "     u'hasRDI': True,\n",
       "     u'label': u'Fiber',\n",
       "     u'schemaOrgTag': u'fiberContent',\n",
       "     u'tag': u'FIBTG',\n",
       "     u'total': 212.32337531757352,\n",
       "     u'unit': u'g'},\n",
       "    {u'daily': 0.0,\n",
       "     u'hasRDI': False,\n",
       "     u'label': u'Sugars',\n",
       "     u'schemaOrgTag': u'sugarContent',\n",
       "     u'tag': u'SUGAR',\n",
       "     u'total': 513.7198335943222,\n",
       "     u'unit': u'g'}],\n",
       "   u'tag': u'CHOCDF',\n",
       "   u'total': 1191.7798200081825,\n",
       "   u'unit': u'g'},\n",
       "  {u'daily': 342.0829024291992,\n",
       "   u'hasRDI': True,\n",
       "   u'label': u'Protein',\n",
       "   u'schemaOrgTag': u'proteinContent',\n",
       "   u'tag': u'PROCNT',\n",
       "   u'total': 171.0414512145996,\n",
       "   u'unit': u'g'},\n",
       "  {u'daily': 328.6509516557058,\n",
       "   u'hasRDI': True,\n",
       "   u'label': u'Cholesterol',\n",
       "   u'schemaOrgTag': u'cholesterolContent',\n",
       "   u'tag': u'CHOLE',\n",
       "   u'total': 985.9528549671173,\n",
       "   u'unit': u'mg'},\n",
       "  {u'daily': 104.90739112854004,\n",
       "   u'hasRDI': True,\n",
       "   u'label': u'Sodium',\n",
       "   u'schemaOrgTag': u'sodiumContent',\n",
       "   u'tag': u'NA',\n",
       "   u'total': 2517.777387084961,\n",
       "   u'unit': u'mg'},\n",
       "  {u'daily': 163.48087988376616,\n",
       "   u'hasRDI': True,\n",
       "   u'label': u'Calcium',\n",
       "   u'schemaOrgTag': None,\n",
       "   u'tag': u'CA',\n",
       "   u'total': 1634.8087988376617,\n",
       "   u'unit': u'mg'},\n",
       "  {u'daily': 711.0540014600753,\n",
       "   u'hasRDI': True,\n",
       "   u'label': u'Magnesium',\n",
       "   u'schemaOrgTag': None,\n",
       "   u'tag': u'MG',\n",
       "   u'total': 2844.216005840301,\n",
       "   u'unit': u'mg'},\n",
       "  {u'daily': 266.82793536540436,\n",
       "   u'hasRDI': True,\n",
       "   u'label': u'Potassium',\n",
       "   u'schemaOrgTag': None,\n",
       "   u'tag': u'K',\n",
       "   u'total': 9338.977737789153,\n",
       "   u'unit': u'mg'},\n",
       "  {u'daily': 566.0866410454114,\n",
       "   u'hasRDI': True,\n",
       "   u'label': u'Iron',\n",
       "   u'schemaOrgTag': None,\n",
       "   u'tag': u'FE',\n",
       "   u'total': 101.89559538817404,\n",
       "   u'unit': u'mg'},\n",
       "  {u'daily': 278.5208781890869,\n",
       "   u'hasRDI': True,\n",
       "   u'label': u'Zinc',\n",
       "   u'schemaOrgTag': None,\n",
       "   u'tag': u'ZN',\n",
       "   u'total': 41.778131728363036,\n",
       "   u'unit': u'mg'},\n",
       "  {u'daily': 777.526639912469,\n",
       "   u'hasRDI': True,\n",
       "   u'label': u'Phosphorus',\n",
       "   u'schemaOrgTag': None,\n",
       "   u'tag': u'P',\n",
       "   u'total': 5442.686479387283,\n",
       "   u'unit': u'mg'},\n",
       "  {u'daily': 234.21335737281376,\n",
       "   u'hasRDI': True,\n",
       "   u'label': u'Vitamin A',\n",
       "   u'schemaOrgTag': None,\n",
       "   u'tag': u'VITA_RAE',\n",
       "   u'total': 2107.9202163553236,\n",
       "   u'unit': u'\\xb5g'},\n",
       "  {u'daily': 0.021133764584859212,\n",
       "   u'hasRDI': True,\n",
       "   u'label': u'Vitamin C',\n",
       "   u'schemaOrgTag': None,\n",
       "   u'tag': u'VITC',\n",
       "   u'total': 0.012680258750915527,\n",
       "   u'unit': u'mg'},\n",
       "  {u'daily': 284.6765598386129,\n",
       "   u'hasRDI': True,\n",
       "   u'label': u'Thiamin (B1)',\n",
       "   u'schemaOrgTag': None,\n",
       "   u'tag': u'THIA',\n",
       "   u'total': 4.270148397579193,\n",
       "   u'unit': u'mg'},\n",
       "  {u'daily': 252.62348743971654,\n",
       "   u'hasRDI': True,\n",
       "   u'label': u'Riboflavin (B2)',\n",
       "   u'schemaOrgTag': None,\n",
       "   u'tag': u'RIBF',\n",
       "   u'total': 4.294599286475181,\n",
       "   u'unit': u'mg'},\n",
       "  {u'daily': 204.2565465274572,\n",
       "   u'hasRDI': True,\n",
       "   u'label': u'Niacin (B3)',\n",
       "   u'schemaOrgTag': None,\n",
       "   u'tag': u'NIA',\n",
       "   u'total': 40.85130930549144,\n",
       "   u'unit': u'mg'},\n",
       "  {u'daily': 57.49491725254059,\n",
       "   u'hasRDI': True,\n",
       "   u'label': u'Vitamin B6',\n",
       "   u'schemaOrgTag': None,\n",
       "   u'tag': u'VITB6A',\n",
       "   u'total': 1.1498983450508118,\n",
       "   u'unit': u'mg'},\n",
       "  {u'daily': 409.03392027974127,\n",
       "   u'hasRDI': True,\n",
       "   u'label': u'Folate (Equivalent)',\n",
       "   u'schemaOrgTag': None,\n",
       "   u'tag': u'FOLDFE',\n",
       "   u'total': 1636.1356811189653,\n",
       "   u'unit': u'\\xb5g'},\n",
       "  {u'daily': 22.950233503977458,\n",
       "   u'hasRDI': True,\n",
       "   u'label': u'Vitamin B12',\n",
       "   u'schemaOrgTag': None,\n",
       "   u'tag': u'VITB12',\n",
       "   u'total': 1.3770140102386474,\n",
       "   u'unit': u'\\xb5g'},\n",
       "  {u'daily': 63.024285888671876,\n",
       "   u'hasRDI': True,\n",
       "   u'label': u'Vitamin D',\n",
       "   u'schemaOrgTag': None,\n",
       "   u'tag': u'VITD',\n",
       "   u'total': 252.0971435546875,\n",
       "   u'unit': u'\\xb5g'},\n",
       "  {u'daily': 46.37098419189453,\n",
       "   u'hasRDI': True,\n",
       "   u'label': u'Vitamin E',\n",
       "   u'schemaOrgTag': None,\n",
       "   u'tag': u'TOCPHA',\n",
       "   u'total': 9.274196838378906,\n",
       "   u'unit': u'mg'},\n",
       "  {u'daily': 43.82064460754394,\n",
       "   u'hasRDI': True,\n",
       "   u'label': u'Vitamin K',\n",
       "   u'schemaOrgTag': None,\n",
       "   u'tag': u'VITK1',\n",
       "   u'total': 35.056515686035155,\n",
       "   u'unit': u'\\xb5g'}],\n",
       " u'healthLabels': [u'Vegetarian',\n",
       "  u'Peanut-Free',\n",
       "  u'Tree-Nut-Free',\n",
       "  u'Alcohol-Free'],\n",
       " u'image': u'https://www.edamam.com/web-img/e4d/e4d93be689090196ce9d848f306d7968.jpg',\n",
       " u'ingredientLines': [u'3 1/2 cups (17 ozs) all-purpose flour',\n",
       "  u'1 1/2 tsps baking powder',\n",
       "  u'1 1/4 tsps baking soda',\n",
       "  u'1 1/2 tsps coarse sea salt, plus additional salt for sprinkling lightly on cookies',\n",
       "  u'2 1/2 sticks (10 ozs) unsalted butter',\n",
       "  u'1 2/3 cups (10 ozs) lightly packed light brown sugar',\n",
       "  u'1 cup (8 ozs) granulated sugar',\n",
       "  u'2 large eggs',\n",
       "  u'2 tsps vanilla extract',\n",
       "  u'18 to 20 ozs bittersweet chocolate, cut into large chip-size chunks (i recommend chocolate with at least 60% cacao content and prefer scharffen berger or callebaut.)'],\n",
       " u'ingredients': [{u'text': u'3 1/2 cups (17 ozs) all-purpose flour',\n",
       "   u'weight': 481.94189453125},\n",
       "  {u'text': u'1 1/2 tsps baking powder', u'weight': 6.900000095367432},\n",
       "  {u'text': u'1 1/4 tsps baking soda', u'weight': 5.75},\n",
       "  {u'text': u'1 1/2 tsps coarse sea salt, plus additional salt for sprinkling lightly on cookies',\n",
       "   u'weight': 6.340129375457764},\n",
       "  {u'text': u'2 1/2 sticks (10 ozs) unsalted butter',\n",
       "   u'weight': 283.4952392578125},\n",
       "  {u'text': u'1 2/3 cups (10 ozs) lightly packed light brown sugar',\n",
       "   u'weight': 283.4952392578125},\n",
       "  {u'text': u'1 cup (8 ozs) granulated sugar', u'weight': 226.7961883544922},\n",
       "  {u'text': u'2 large eggs', u'weight': 100.0},\n",
       "  {u'text': u'2 tsps vanilla extract', u'weight': 8.399999618530273},\n",
       "  {u'text': u'18 to 20 ozs bittersweet chocolate, cut into large chip-size chunks (i recommend chocolate with at least 60% cacao content and prefer scharffen berger or callebaut.)',\n",
       "   u'weight': 538.6409301757812}],\n",
       " u'label': u'Chocolate Chip Cookies',\n",
       " u'shareAs': u'http://www.edamam.com/recipe/chocolate-chip-cookies-5d0fa39688d84f96f538e8b504083b02/chocolate+chip+cookies',\n",
       " u'source': u'Serious Eats',\n",
       " u'totalDaily': {u'CA': {u'label': u'Calcium',\n",
       "   u'quantity': 163.48087988376616,\n",
       "   u'unit': u'%'},\n",
       "  u'CHOCDF': {u'label': u'Carbs',\n",
       "   u'quantity': 397.2599400027275,\n",
       "   u'unit': u'%'},\n",
       "  u'CHOLE': {u'label': u'Cholesterol',\n",
       "   u'quantity': 328.6509516557058,\n",
       "   u'unit': u'%'},\n",
       "  u'ENERC_KCAL': {u'label': u'Energy',\n",
       "   u'quantity': 358.5832335393428,\n",
       "   u'unit': u'%'},\n",
       "  u'FASAT': {u'label': u'Saturated',\n",
       "   u'quantity': 969.3006355402233,\n",
       "   u'unit': u'%'},\n",
       "  u'FAT': {u'label': u'Fat', u'quantity': 491.96225123830936, u'unit': u'%'},\n",
       "  u'FE': {u'label': u'Iron', u'quantity': 566.0866410454114, u'unit': u'%'},\n",
       "  u'FIBTG': {u'label': u'Fiber',\n",
       "   u'quantity': 849.2935012702941,\n",
       "   u'unit': u'%'},\n",
       "  u'FOLDFE': {u'label': u'Folate (Equivalent)',\n",
       "   u'quantity': 409.03392027974127,\n",
       "   u'unit': u'%'},\n",
       "  u'K': {u'label': u'Potassium',\n",
       "   u'quantity': 266.82793536540436,\n",
       "   u'unit': u'%'},\n",
       "  u'MG': {u'label': u'Magnesium',\n",
       "   u'quantity': 711.0540014600753,\n",
       "   u'unit': u'%'},\n",
       "  u'NA': {u'label': u'Sodium', u'quantity': 104.90739112854004, u'unit': u'%'},\n",
       "  u'NIA': {u'label': u'Niacin (B3)',\n",
       "   u'quantity': 204.2565465274572,\n",
       "   u'unit': u'%'},\n",
       "  u'P': {u'label': u'Phosphorus',\n",
       "   u'quantity': 777.526639912469,\n",
       "   u'unit': u'%'},\n",
       "  u'PROCNT': {u'label': u'Protein',\n",
       "   u'quantity': 342.0829024291992,\n",
       "   u'unit': u'%'},\n",
       "  u'RIBF': {u'label': u'Riboflavin (B2)',\n",
       "   u'quantity': 252.62348743971654,\n",
       "   u'unit': u'%'},\n",
       "  u'THIA': {u'label': u'Thiamin (B1)',\n",
       "   u'quantity': 284.6765598386129,\n",
       "   u'unit': u'%'},\n",
       "  u'TOCPHA': {u'label': u'Vitamin E',\n",
       "   u'quantity': 46.37098419189453,\n",
       "   u'unit': u'%'},\n",
       "  u'VITA_RAE': {u'label': u'Vitamin A',\n",
       "   u'quantity': 234.21335737281376,\n",
       "   u'unit': u'%'},\n",
       "  u'VITB12': {u'label': u'Vitamin B12',\n",
       "   u'quantity': 22.950233503977458,\n",
       "   u'unit': u'%'},\n",
       "  u'VITB6A': {u'label': u'Vitamin B6',\n",
       "   u'quantity': 57.49491725254059,\n",
       "   u'unit': u'%'},\n",
       "  u'VITC': {u'label': u'Vitamin C',\n",
       "   u'quantity': 0.021133764584859212,\n",
       "   u'unit': u'%'},\n",
       "  u'VITD': {u'label': u'Vitamin D',\n",
       "   u'quantity': 63.024285888671876,\n",
       "   u'unit': u'%'},\n",
       "  u'VITK1': {u'label': u'Vitamin K',\n",
       "   u'quantity': 43.82064460754394,\n",
       "   u'unit': u'%'},\n",
       "  u'ZN': {u'label': u'Zinc', u'quantity': 278.5208781890869, u'unit': u'%'}},\n",
       " u'totalNutrients': {u'CA': {u'label': u'Calcium',\n",
       "   u'quantity': 1634.8087988376617,\n",
       "   u'unit': u'mg'},\n",
       "  u'CHOCDF': {u'label': u'Carbs',\n",
       "   u'quantity': 1191.7798200081825,\n",
       "   u'unit': u'g'},\n",
       "  u'CHOLE': {u'label': u'Cholesterol',\n",
       "   u'quantity': 985.9528549671173,\n",
       "   u'unit': u'mg'},\n",
       "  u'ENERC_KCAL': {u'label': u'Energy',\n",
       "   u'quantity': 7171.664670786857,\n",
       "   u'unit': u'kcal'},\n",
       "  u'FAMS': {u'label': u'Monounsaturated',\n",
       "   u'quantity': 88.81004426345349,\n",
       "   u'unit': u'g'},\n",
       "  u'FAPU': {u'label': u'Polyunsaturated',\n",
       "   u'quantity': 15.186441522727014,\n",
       "   u'unit': u'g'},\n",
       "  u'FASAT': {u'label': u'Saturated',\n",
       "   u'quantity': 193.86012710804465,\n",
       "   u'unit': u'g'},\n",
       "  u'FAT': {u'label': u'Fat', u'quantity': 319.7754633049011, u'unit': u'g'},\n",
       "  u'FATRN': {u'label': u'Trans',\n",
       "   u'quantity': 9.330973942871093,\n",
       "   u'unit': u'g'},\n",
       "  u'FE': {u'label': u'Iron', u'quantity': 101.89559538817404, u'unit': u'mg'},\n",
       "  u'FIBTG': {u'label': u'Fiber',\n",
       "   u'quantity': 212.32337531757352,\n",
       "   u'unit': u'g'},\n",
       "  u'FOLDFE': {u'label': u'Folate (Equivalent)',\n",
       "   u'quantity': 1636.1356811189653,\n",
       "   u'unit': u'\\xb5g'},\n",
       "  u'K': {u'label': u'Potassium',\n",
       "   u'quantity': 9338.977737789153,\n",
       "   u'unit': u'mg'},\n",
       "  u'MG': {u'label': u'Magnesium',\n",
       "   u'quantity': 2844.216005840301,\n",
       "   u'unit': u'mg'},\n",
       "  u'NA': {u'label': u'Sodium', u'quantity': 2517.777387084961, u'unit': u'mg'},\n",
       "  u'NIA': {u'label': u'Niacin (B3)',\n",
       "   u'quantity': 40.85130930549144,\n",
       "   u'unit': u'mg'},\n",
       "  u'P': {u'label': u'Phosphorus',\n",
       "   u'quantity': 5442.686479387283,\n",
       "   u'unit': u'mg'},\n",
       "  u'PROCNT': {u'label': u'Protein',\n",
       "   u'quantity': 171.0414512145996,\n",
       "   u'unit': u'g'},\n",
       "  u'RIBF': {u'label': u'Riboflavin (B2)',\n",
       "   u'quantity': 4.294599286475181,\n",
       "   u'unit': u'mg'},\n",
       "  u'SUGAR': {u'label': u'Sugars',\n",
       "   u'quantity': 513.7198335943222,\n",
       "   u'unit': u'g'},\n",
       "  u'THIA': {u'label': u'Thiamin (B1)',\n",
       "   u'quantity': 4.270148397579193,\n",
       "   u'unit': u'mg'},\n",
       "  u'TOCPHA': {u'label': u'Vitamin E',\n",
       "   u'quantity': 9.274196838378906,\n",
       "   u'unit': u'mg'},\n",
       "  u'VITA_RAE': {u'label': u'Vitamin A',\n",
       "   u'quantity': 2107.9202163553236,\n",
       "   u'unit': u'\\xb5g'},\n",
       "  u'VITB12': {u'label': u'Vitamin B12',\n",
       "   u'quantity': 1.3770140102386474,\n",
       "   u'unit': u'\\xb5g'},\n",
       "  u'VITB6A': {u'label': u'Vitamin B6',\n",
       "   u'quantity': 1.1498983450508118,\n",
       "   u'unit': u'mg'},\n",
       "  u'VITC': {u'label': u'Vitamin C',\n",
       "   u'quantity': 0.012680258750915527,\n",
       "   u'unit': u'mg'},\n",
       "  u'VITD': {u'label': u'Vitamin D',\n",
       "   u'quantity': 252.0971435546875,\n",
       "   u'unit': u'IU'},\n",
       "  u'VITK1': {u'label': u'Vitamin K',\n",
       "   u'quantity': 35.056515686035155,\n",
       "   u'unit': u'\\xb5g'},\n",
       "  u'ZN': {u'label': u'Zinc', u'quantity': 41.778131728363036, u'unit': u'mg'}},\n",
       " u'totalWeight': 1941.759620666504,\n",
       " u'uri': u'http://www.edamam.com/ontologies/edamam.owl#recipe_5d0fa39688d84f96f538e8b504083b02',\n",
       " u'url': u'http://www.seriouseats.com/recipes/2010/02/the-best-chocolate-chip-cookies-kumiko-recipe-20100201.html',\n",
       " u'yield': 24.0}"
      ]
     },
     "execution_count": 13,
     "metadata": {},
     "output_type": "execute_result"
    }
   ],
   "source": [
    "coll.find_one()"
   ]
  },
  {
   "cell_type": "code",
   "execution_count": 14,
   "metadata": {},
   "outputs": [],
   "source": [
    "ll = ['b','a','c']"
   ]
  },
  {
   "cell_type": "code",
   "execution_count": 15,
   "metadata": {},
   "outputs": [
    {
     "data": {
      "text/plain": [
       "{'a', 'b', 'c'}"
      ]
     },
     "execution_count": 15,
     "metadata": {},
     "output_type": "execute_result"
    }
   ],
   "source": [
    "set(ll)"
   ]
  },
  {
   "cell_type": "code",
   "execution_count": 16,
   "metadata": {},
   "outputs": [
    {
     "data": {
      "text/plain": [
       "True"
      ]
     },
     "execution_count": 16,
     "metadata": {},
     "output_type": "execute_result"
    }
   ],
   "source": [
    "all([])"
   ]
  },
  {
   "cell_type": "code",
   "execution_count": 17,
   "metadata": {},
   "outputs": [
    {
     "data": {
      "text/plain": [
       "array([False, False], dtype=bool)"
      ]
     },
     "execution_count": 17,
     "metadata": {},
     "output_type": "execute_result"
    }
   ],
   "source": [
    "np.isin(['a','b'], set(ll))"
   ]
  },
  {
   "cell_type": "code",
   "execution_count": 18,
   "metadata": {
    "collapsed": true
   },
   "outputs": [],
   "source": [
    "arr = np.array([[1,2,3],[5,0,1]])"
   ]
  },
  {
   "cell_type": "code",
   "execution_count": 19,
   "metadata": {},
   "outputs": [
    {
     "data": {
      "text/plain": [
       "array([5, 2, 3])"
      ]
     },
     "execution_count": 19,
     "metadata": {},
     "output_type": "execute_result"
    }
   ],
   "source": [
    "arr.max(axis=0)"
   ]
  },
  {
   "cell_type": "code",
   "execution_count": 58,
   "metadata": {},
   "outputs": [],
   "source": [
    "new_group = RecipeGroup(df_cookies,\n",
    "                        member_keys={'http://userealbutter.com/2008/08/01/cranberry-oatmeal-cookies-recipe/'})"
   ]
  },
  {
   "cell_type": "code",
   "execution_count": 59,
   "metadata": {},
   "outputs": [],
   "source": [
    "new_group.grow_by_linkage(group_size=20)"
   ]
  },
  {
   "cell_type": "code",
   "execution_count": 60,
   "metadata": {},
   "outputs": [
    {
     "name": "stdout",
     "output_type": "stream",
     "text": [
      "the best oatmeal raisin cookies\n",
      "anytime oatmeal cookies\n",
      "oatmeal-chocolate chip cookies\n",
      "oatmeal cookies with chocolate covered cranberries\n",
      "cranberry walnut oatmeal cookies\n",
      "double-chocolate cranberry oatmeal cookies\n",
      "oatmeal cranberry cookies\n",
      "mexican oatmeal cookies\n",
      "jumbo pecan-date oatmeal cookies\n",
      "oatmeal-chocolate chip cookies\n",
      "maggie's favorite oatmeal cookies\n",
      "cranberry oatmeal cookies\n",
      "crisp salted oatmeal white chocolate cookies\n",
      "oatmeal chocolate chip cookie\n",
      "oatmeal-raisin cookies\n",
      "apricot and white chocolate oatmeal cookies\n",
      "cranberry oatmeal cookies\n",
      "kitchen sink oatmeal cookies\n",
      "thin and crisp oatmeal cookies with sea salt\n",
      "trout dale oatmeal-raisin cookies\n"
     ]
    }
   ],
   "source": [
    "for recp in new_group.members.itervalues():\n",
    "    print recp.label"
   ]
  },
  {
   "cell_type": "code",
   "execution_count": 61,
   "metadata": {
    "collapsed": true
   },
   "outputs": [],
   "source": [
    "oatmeal = new_group.find_typical_recipe()"
   ]
  },
  {
   "cell_type": "code",
   "execution_count": 62,
   "metadata": {},
   "outputs": [
    {
     "name": "stdout",
     "output_type": "stream",
     "text": [
      "BUTTER: 227.0g    |   used in 100.0%  of recipes|\n",
      "     avg: 175.6g  | range: 130.3g - 242.4g       |  std: 1.0731g\n",
      "------------------------------------------------------------\n",
      "FLOUR: 187.5g     |   used in 100.0%  of recipes|\n",
      "     avg: 144.4g  | range: 80.0g - 188.4g       |  std: 0.6940g\n",
      "------------------------------------------------------------\n",
      "BAKE SODA:  4.6g  |   used in 100.0%  of recipes|\n",
      "     avg:   3.2g  | range:  1.6g -  5.9g       |  std: 0.0010g\n",
      "------------------------------------------------------------\n",
      "OAT: 240.0g       |   used in 100.0%  of recipes|\n",
      "     avg: 209.0g  | range: 92.5g - 330.3g       |  std: 4.0040g\n",
      "------------------------------------------------------------\n",
      "SUGAR: 100.0g     |   used in 100.0%  of recipes|\n",
      "     avg: 129.7g  | range: 68.9g - 274.0g       |  std: 3.2778g\n",
      "------------------------------------------------------------\n",
      "SALT:  3.0g       |   used in 100.0%  of recipes|\n",
      "     avg:   3.6g  | range:  1.1g -  8.3g       |  std: 0.0032g\n",
      "------------------------------------------------------------\n",
      "EGG: 86.0g        |   used in 100.0%  of recipes|\n",
      "     avg:  66.7g  | range: 33.8g - 86.0g       |  std: 0.1468g\n",
      "------------------------------------------------------------\n",
      "BROWN SUGAR: 145.0g  |   used in 100.0%  of recipes|\n",
      "     avg: 120.0g  | range: 44.2g - 208.8g       |  std: 1.5585g\n",
      "------------------------------------------------------------\n",
      "VANILLA EXTRACT:  4.2g  |   used in 90.0%  of recipes|\n",
      "     avg:   4.7g  | range:  2.5g -  9.8g       |  std: 0.0033g\n",
      "------------------------------------------------------------\n",
      "CINNAMON:  5.2g   |   used in 55.0%  of recipes|\n",
      "     avg:   1.7g  | range:  0.5g -  5.2g       |  std: 0.0015g\n",
      "------------------------------------------------------------\n"
     ]
    }
   ],
   "source": [
    "print oatmeal"
   ]
  },
  {
   "cell_type": "code",
   "execution_count": 63,
   "metadata": {},
   "outputs": [
    {
     "name": "stdout",
     "output_type": "stream",
     "text": [
      "3 cups rolled oats\n",
      "1 block of mexican chocolate\n",
      "1 cup butter, softened\n",
      "1 cup brown sugar\n",
      "1/2 cup white sugar\n",
      "2 eggs\n",
      "1 teaspoon vanilla extract\n",
      "1 1/2 cups all-purpose flour\n",
      "1 teaspoon baking soda\n",
      "2 teaspoons ground cinnamon, or more to taste\n",
      "1/2 teaspoon salt\n"
     ]
    }
   ],
   "source": [
    "print oatmeal.line_text"
   ]
  },
  {
   "cell_type": "code",
   "execution_count": 64,
   "metadata": {},
   "outputs": [
    {
     "name": "stdout",
     "output_type": "stream",
     "text": [
      "{'butter': 0.22660743375471845, 'vanilla extract': 0.0041927364693739189, 'flour': 0.18717574374013088, 'bake soda': 0.0045920448178887047, 'oat': 0.23958495198736754, 'cinnamon': 0.0051910071026546167, 'sugar': 0.099827063328069801, 'salt': 0.0029948118998420941, 'egg': 0.085851274462140026, 'brown sugar': 0.1447492418257012}\n"
     ]
    }
   ],
   "source": [
    "print oatmeal.per_mass"
   ]
  },
  {
   "cell_type": "code",
   "execution_count": 65,
   "metadata": {},
   "outputs": [
    {
     "name": "stdout",
     "output_type": "stream",
     "text": [
      "core ingredients:\n",
      "   bake soda, in 100.0%  of recipes\n",
      "   brown sugar, in 100.0%  of recipes\n",
      "   egg, in 100.0%  of recipes\n",
      "   sugar, in 100.0%  of recipes\n",
      "   oat, in 100.0%  of recipes\n",
      "   flour, in 100.0%  of recipes\n",
      "   butter, in 100.0%  of recipes\n",
      "   salt, in 100.0%  of recipes\n",
      "   vanilla extract, in 90.0%  of recipes\n",
      "common ingredients:\n",
      "   cinnamon, in 55.0%  of recipes\n",
      "   chocol, in 30.0%  of recipes\n",
      "   cranberri, in 30.0%  of recipes\n",
      "   raisin, in 25.0%  of recipes\n",
      "   bake powder, in 20.0%  of recipes\n",
      "uncommon ingredients:\n",
      "   almond, in  5.0%  of recipes\n",
      "   walnut, in  5.0%  of recipes\n",
      "   clove, in  5.0%  of recipes\n",
      "   milk, in  5.0%  of recipes\n",
      "   cocoa powder, in  5.0%  of recipes\n",
      "   water, in  5.0%  of recipes\n",
      "   pecan, in  5.0%  of recipes\n"
     ]
    }
   ],
   "source": [
    "print new_group"
   ]
  },
  {
   "cell_type": "code",
   "execution_count": null,
   "metadata": {
    "collapsed": true
   },
   "outputs": [],
   "source": []
  },
  {
   "cell_type": "code",
   "execution_count": 66,
   "metadata": {
    "collapsed": true
   },
   "outputs": [],
   "source": [
    "from src.feature_building import token_pipeline"
   ]
  },
  {
   "cell_type": "code",
   "execution_count": 68,
   "metadata": {},
   "outputs": [
    {
     "data": {
      "text/plain": [
       "[u'block', u'mexican', u'chocol']"
      ]
     },
     "execution_count": 68,
     "metadata": {},
     "output_type": "execute_result"
    }
   ],
   "source": [
    "token_pipeline('1 block of mexican chocolate')"
   ]
  },
  {
   "cell_type": "code",
   "execution_count": null,
   "metadata": {
    "collapsed": true
   },
   "outputs": [],
   "source": []
  }
 ],
 "metadata": {
  "kernelspec": {
   "display_name": "Python 2",
   "language": "python",
   "name": "python2"
  },
  "language_info": {
   "codemirror_mode": {
    "name": "ipython",
    "version": 2
   },
   "file_extension": ".py",
   "mimetype": "text/x-python",
   "name": "python",
   "nbconvert_exporter": "python",
   "pygments_lexer": "ipython2",
   "version": "2.7.13"
  }
 },
 "nbformat": 4,
 "nbformat_minor": 2
}
