{
 "cells": [
  {
   "cell_type": "code",
   "execution_count": 1,
   "metadata": {},
   "outputs": [],
   "source": [
    "from pymongo import MongoClient\n",
    "import pandas as pd\n",
    "import re\n",
    "from src.data_processing import get_recipe_df\n",
    "from src.recipe_annotation import Recipe, RecipeGroup"
   ]
  },
  {
   "cell_type": "code",
   "execution_count": 2,
   "metadata": {
    "collapsed": true
   },
   "outputs": [],
   "source": [
    "client = MongoClient()\n",
    "db = client['recipes']\n",
    "coll = db.eda_cookies\n",
    "\n",
    "cookie_regx = re.compile(\"cookie\", re.IGNORECASE)"
   ]
  },
  {
   "cell_type": "code",
   "execution_count": 3,
   "metadata": {},
   "outputs": [],
   "source": [
    "df_cookies = get_recipe_df(coll, cookie_regx)"
   ]
  },
  {
   "cell_type": "code",
   "execution_count": 7,
   "metadata": {},
   "outputs": [],
   "source": [
    "choc_chip_keys = df_cookies.index[df_cookies.label.str.contains(\"chocolate.chip.cookies\", case=False, regex=True)]"
   ]
  },
  {
   "cell_type": "code",
   "execution_count": 36,
   "metadata": {},
   "outputs": [],
   "source": [
    "choc_chip_group = RecipeGroup(choc_chip_keys, df_cookies)"
   ]
  },
  {
   "cell_type": "code",
   "execution_count": 56,
   "metadata": {},
   "outputs": [],
   "source": [
    "recp = choc_chip_group.members['https://www.tastingtable.com/entry_detail/chefs_recipes/5722/Spicing_up_your_next_bagged_lunch.htm']"
   ]
  },
  {
   "cell_type": "code",
   "execution_count": 57,
   "metadata": {},
   "outputs": [],
   "source": [
    "recp.get_annotations()"
   ]
  },
  {
   "cell_type": "code",
   "execution_count": 58,
   "metadata": {},
   "outputs": [
    {
     "name": "stdout",
     "output_type": "stream",
     "text": [
      "SALT:  7.4g       |   used in 87.6%  of recipes|\n",
      "     avg:   3.1g  | range:  0.4g - 10.1g       |  std: 0.0032g\n",
      "------------------------------------------------------------\n",
      "BUTTER: 169.5g    |   used in 85.9%  of recipes|\n",
      "     avg: 131.1g  | range:  3.5g - 235.8g       |  std: 1.6877g\n",
      "------------------------------------------------------------\n",
      "FLOUR: 250.0g     |   used in 85.0%  of recipes|\n",
      "     avg: 180.5g  | range:  3.5g - 540.9g       |  std: 7.2277g\n",
      "------------------------------------------------------------\n",
      "EGG: 43.0g        |   used in 83.3%  of recipes|\n",
      "     avg:  56.8g  | range: 18.3g - 168.7g       |  std: 0.4264g\n",
      "------------------------------------------------------------\n",
      "BROWN SUGAR: 181.2g  |   used in 77.4%  of recipes|\n",
      "     avg: 118.7g  | range: 10.8g - 276.0g       |  std: 2.2764g\n",
      "------------------------------------------------------------\n",
      "BAKE POWDER:  1.1g  |   used in 28.6%  of recipes|\n",
      "     avg:   3.5g  | range:  1.1g - 10.6g       |  std: 0.0050g\n",
      "------------------------------------------------------------\n",
      "CHOCOL: 129.8g    |   used in 28.6%  of recipes|\n",
      "     avg: 200.7g  | range: 15.1g - 536.8g       |  std: 10.2128g\n",
      "------------------------------------------------------------\n",
      "SEMISWEET CHOCOL: 129.8g  |   used in 26.1%  of recipes|\n",
      "     avg: 184.4g  | range:  0.0g - 448.7g       |  std: 6.0150g\n",
      "------------------------------------------------------------\n"
     ]
    }
   ],
   "source": [
    "print recp.annots"
   ]
  },
  {
   "cell_type": "code",
   "execution_count": null,
   "metadata": {
    "collapsed": true
   },
   "outputs": [],
   "source": []
  }
 ],
 "metadata": {
  "kernelspec": {
   "display_name": "Python 2",
   "language": "python",
   "name": "python2"
  },
  "language_info": {
   "codemirror_mode": {
    "name": "ipython",
    "version": 2
   },
   "file_extension": ".py",
   "mimetype": "text/x-python",
   "name": "python",
   "nbconvert_exporter": "python",
   "pygments_lexer": "ipython2",
   "version": "2.7.13"
  }
 },
 "nbformat": 4,
 "nbformat_minor": 2
}
